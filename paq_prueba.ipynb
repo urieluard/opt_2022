{
 "cells": [
  {
   "cell_type": "code",
   "execution_count": 1,
   "metadata": {},
   "outputs": [],
   "source": [
    "import pandas as pd\n",
    "import numpy as np"
   ]
  },
  {
   "cell_type": "markdown",
   "metadata": {},
   "source": [
    "## Descripción del problema a resolver\n",
    "\n",
    "**La base de datos** que se utilizará para probar el paquete implementado por el equipo corresponde a una representación simplificada de la Red Eléctrica Mexicana, que se utiliza para realizar la planeación del sistema nacional de generación, transmisión y distribución de energía eléctrica.\n",
    "\n",
    "La información a la que se tuvo acceso proviene del Centro Nacional de Control de Energía ([CENACE](https://www.gob.mx/cenace)) y su publicación se realiza de forma anual en los Programas de Ampliación y Modernización de la Red Nacional de Transmisión y Redes Generales de Distribución ([ver documento PAMRNT](https://www.cenace.gob.mx/Docs/10_PLANEACION/ProgramasAyM/Programa%20de%20Ampliaci%C3%B3n%20y%20Modernizaci%C3%B3n%20de%20la%20RNT%20y%20RGD%202021%20-%202035.pdf)).\n",
    "\n",
    "En la Figura 4.3.2 de ese documento, se muestra la topología que tiene la red que representa las regiones o zonas más representativas (en cuanto a demanda y generación de energía eléctrica o bien por cuestiones de ubicación geográfica), así como su conectividad. Adicionalmente, cada uno de los arcos (ramas) tiene una capacidad definida de transmisión de energía, comunmente llamada _límite de transmisión entre regiones_.\n",
    "\n",
    "<p align = \"center\">\n",
    "    <img src=\"images/red_nacional.png\" width=\"1329\" height=\"911\" />\n",
    "\n",
    "        fuente: Elaborado por CENACE\n",
    "\n",
    "El grafo que observamos es de tipo \"no-dirigido\", porque en una red eléctrica el sentido del flujo de potencia (energía) puede darse en cualquier sentido y está determinado por la solución que se obtenga del problema de [Flujos de Potencia](https://www.intechopen.com/chapters/65445). Sin embargo, para el ejercicio que realizaremos en esta práctica, partiremos de una suposición de sentido en los flujos de potencia basada en las condiciones que predominan en la red eléctrica y que se reportan en el PAMRNT (en la sección: _Condiciones operativas en las transferencias de potencia en los principales enlaces del Sistema Eléctrico Nacional en la demanda máxima de verano de 2020_).\n",
    "\n",
    "**El Planteamiento** del problema que se pretende resolver es el siguiente: \"Dada la red eléctrica de la Figura 4.3.2 encontrar flujo máximo que se puede transmitir en la red\".\n",
    "\n",
    "**¿Para qué puede servir encontrar el flujo máximo en la red eléctrica?**\n",
    "\n",
    "- Para determinar los posibles cuellos de botella (restricciones) que se pueden presentar al tratar de enviar energía desde un punto de la red a otro.\n",
    "- Encontrar posibles puntos de inyección donde resulte más conveniente instalar generación (que se obtengan mayores flujos máximos por la red)\n",
    "- Descubrir cuales corredores de trasnmisión (rutas) se ven más utilizadas cuando la inyección de energía se presenta en algún punto de la red.\n"
   ]
  },
  {
   "cell_type": "markdown",
   "metadata": {},
   "source": [
    "## Lectura y limpieza de la Base de Datos"
   ]
  },
  {
   "cell_type": "markdown",
   "metadata": {},
   "source": [
    "La base de datos tiene el siguiente contenido y forma:"
   ]
  },
  {
   "cell_type": "code",
   "execution_count": 113,
   "metadata": {},
   "outputs": [
    {
     "data": {
      "text/html": [
       "<div>\n",
       "<style scoped>\n",
       "    .dataframe tbody tr th:only-of-type {\n",
       "        vertical-align: middle;\n",
       "    }\n",
       "\n",
       "    .dataframe tbody tr th {\n",
       "        vertical-align: top;\n",
       "    }\n",
       "\n",
       "    .dataframe thead th {\n",
       "        text-align: right;\n",
       "    }\n",
       "</style>\n",
       "<table border=\"1\" class=\"dataframe\">\n",
       "  <thead>\n",
       "    <tr style=\"text-align: right;\">\n",
       "      <th></th>\n",
       "      <th>Num_env</th>\n",
       "      <th>Nom_env</th>\n",
       "      <th>Num_rec</th>\n",
       "      <th>Nom_rec</th>\n",
       "      <th>Enlace</th>\n",
       "      <th>Periodo</th>\n",
       "      <th>Cap</th>\n",
       "      <th>Real</th>\n",
       "      <th>Img</th>\n",
       "    </tr>\n",
       "  </thead>\n",
       "  <tbody>\n",
       "    <tr>\n",
       "      <th>0</th>\n",
       "      <td>24</td>\n",
       "      <td>1ROMAYO</td>\n",
       "      <td>31</td>\n",
       "      <td>AGUASCAL</td>\n",
       "      <td>1ROM-AGUA</td>\n",
       "      <td>01.__2021</td>\n",
       "      <td>1,480.00</td>\n",
       "      <td>0</td>\n",
       "      <td>0.03</td>\n",
       "    </tr>\n",
       "    <tr>\n",
       "      <th>1</th>\n",
       "      <td>24</td>\n",
       "      <td>1ROMAYO</td>\n",
       "      <td>31</td>\n",
       "      <td>AGUASCAL</td>\n",
       "      <td>1ROM-AGUA</td>\n",
       "      <td>02.__2022</td>\n",
       "      <td>0</td>\n",
       "      <td>0</td>\n",
       "      <td>0</td>\n",
       "    </tr>\n",
       "    <tr>\n",
       "      <th>2</th>\n",
       "      <td>24</td>\n",
       "      <td>1ROMAYO</td>\n",
       "      <td>31</td>\n",
       "      <td>AGUASCAL</td>\n",
       "      <td>1ROM-AGUA</td>\n",
       "      <td>03.__2023</td>\n",
       "      <td>0</td>\n",
       "      <td>0</td>\n",
       "      <td>0</td>\n",
       "    </tr>\n",
       "    <tr>\n",
       "      <th>3</th>\n",
       "      <td>24</td>\n",
       "      <td>1ROMAYO</td>\n",
       "      <td>31</td>\n",
       "      <td>AGUASCAL</td>\n",
       "      <td>1ROM-AGUA</td>\n",
       "      <td>04.__2024</td>\n",
       "      <td>224</td>\n",
       "      <td>2.06</td>\n",
       "      <td>262.8</td>\n",
       "    </tr>\n",
       "    <tr>\n",
       "      <th>4</th>\n",
       "      <td>24</td>\n",
       "      <td>1ROMAYO</td>\n",
       "      <td>31</td>\n",
       "      <td>AGUASCAL</td>\n",
       "      <td>1ROM-AGUA</td>\n",
       "      <td>05.__2025</td>\n",
       "      <td>0</td>\n",
       "      <td>0</td>\n",
       "      <td>0</td>\n",
       "    </tr>\n",
       "    <tr>\n",
       "      <th>...</th>\n",
       "      <td>...</td>\n",
       "      <td>...</td>\n",
       "      <td>...</td>\n",
       "      <td>...</td>\n",
       "      <td>...</td>\n",
       "      <td>...</td>\n",
       "      <td>...</td>\n",
       "      <td>...</td>\n",
       "      <td>...</td>\n",
       "    </tr>\n",
       "    <tr>\n",
       "      <th>2284</th>\n",
       "      <td>46</td>\n",
       "      <td>VERACRUZ</td>\n",
       "      <td>45</td>\n",
       "      <td>POZARICA</td>\n",
       "      <td>VER-POZ</td>\n",
       "      <td>17.__2037</td>\n",
       "      <td>0</td>\n",
       "      <td>0</td>\n",
       "      <td>0</td>\n",
       "    </tr>\n",
       "    <tr>\n",
       "      <th>2285</th>\n",
       "      <td>46</td>\n",
       "      <td>VERACRUZ</td>\n",
       "      <td>45</td>\n",
       "      <td>POZARICA</td>\n",
       "      <td>VER-POZ</td>\n",
       "      <td>18.__2038</td>\n",
       "      <td>0</td>\n",
       "      <td>0</td>\n",
       "      <td>0</td>\n",
       "    </tr>\n",
       "    <tr>\n",
       "      <th>2286</th>\n",
       "      <td>46</td>\n",
       "      <td>VERACRUZ</td>\n",
       "      <td>45</td>\n",
       "      <td>POZARICA</td>\n",
       "      <td>VER-POZ</td>\n",
       "      <td>19.__2039</td>\n",
       "      <td>0</td>\n",
       "      <td>0</td>\n",
       "      <td>0</td>\n",
       "    </tr>\n",
       "    <tr>\n",
       "      <th>2287</th>\n",
       "      <td>46</td>\n",
       "      <td>VERACRUZ</td>\n",
       "      <td>45</td>\n",
       "      <td>POZARICA</td>\n",
       "      <td>VER-POZ</td>\n",
       "      <td>20.__2040</td>\n",
       "      <td>0</td>\n",
       "      <td>0</td>\n",
       "      <td>0</td>\n",
       "    </tr>\n",
       "    <tr>\n",
       "      <th>2288</th>\n",
       "      <td>46</td>\n",
       "      <td>VERACRUZ</td>\n",
       "      <td>45</td>\n",
       "      <td>POZARICA</td>\n",
       "      <td>VER-POZ</td>\n",
       "      <td>21.__2041</td>\n",
       "      <td>0</td>\n",
       "      <td>0</td>\n",
       "      <td>0</td>\n",
       "    </tr>\n",
       "  </tbody>\n",
       "</table>\n",
       "<p>2289 rows × 9 columns</p>\n",
       "</div>"
      ],
      "text/plain": [
       "      Num_env   Nom_env  Num_rec   Nom_rec     Enlace    Periodo       Cap  \\\n",
       "0          24   1ROMAYO       31  AGUASCAL  1ROM-AGUA  01.__2021  1,480.00   \n",
       "1          24   1ROMAYO       31  AGUASCAL  1ROM-AGUA  02.__2022         0   \n",
       "2          24   1ROMAYO       31  AGUASCAL  1ROM-AGUA  03.__2023         0   \n",
       "3          24   1ROMAYO       31  AGUASCAL  1ROM-AGUA  04.__2024       224   \n",
       "4          24   1ROMAYO       31  AGUASCAL  1ROM-AGUA  05.__2025         0   \n",
       "...       ...       ...      ...       ...        ...        ...       ...   \n",
       "2284       46  VERACRUZ       45  POZARICA    VER-POZ  17.__2037         0   \n",
       "2285       46  VERACRUZ       45  POZARICA    VER-POZ  18.__2038         0   \n",
       "2286       46  VERACRUZ       45  POZARICA    VER-POZ  19.__2039         0   \n",
       "2287       46  VERACRUZ       45  POZARICA    VER-POZ  20.__2040         0   \n",
       "2288       46  VERACRUZ       45  POZARICA    VER-POZ  21.__2041         0   \n",
       "\n",
       "      Real    Img  \n",
       "0        0   0.03  \n",
       "1        0      0  \n",
       "2        0      0  \n",
       "3     2.06  262.8  \n",
       "4        0      0  \n",
       "...    ...    ...  \n",
       "2284     0      0  \n",
       "2285     0      0  \n",
       "2286     0      0  \n",
       "2287     0      0  \n",
       "2288     0      0  \n",
       "\n",
       "[2289 rows x 9 columns]"
      ]
     },
     "execution_count": 113,
     "metadata": {},
     "output_type": "execute_result"
    }
   ],
   "source": [
    "red = pd.read_csv('BD/red.csv')\n",
    "pd.options.display.max_rows = 70\n",
    "red"
   ]
  },
  {
   "cell_type": "markdown",
   "metadata": {},
   "source": [
    "La descripción de cada variable es la siguiente:\n",
    "\n",
    "- **Num_env** y **Nom_env** Son los identificadores, número y nombre, respectivamente; del nodo o región de envío (de acuerdo al orden mostrado en la Figura 4.3.2)\n",
    "- **Num_env** y **Nom_env** Son los identificadores, número y nombre, respectivamente; del nodo o región de recepción (de acuerdo al orden mostrado en la Figura 4.3.2)\n",
    "- **Enlace** Concatenación o identificación corta del enlace formado entre el nodo de envío y el nodo de recepción\n",
    "- **Periodo** Identificación del año en el que el enlace se encontraría en operación. Cada enlace tiene 20 registros, uno por año, que van desde 2021 a 2041\n",
    "- **Cap** Capacidad de flujo máximo que puede transmitir el enlace. El primer periodo corresponde a la capacidad actual y en los años subsecuentes se informa de incrementos o decrementos, si es que los hay\n",
    "- **Real** Parte real de la impedancia eléctrica que tiene el enlace\n",
    "- **Imag** Parte imaginaria de la impedancia eléctrica que tiene el enlace\n",
    "\n",
    "El tipo de datos que se lee es el siguiente:"
   ]
  },
  {
   "cell_type": "code",
   "execution_count": 117,
   "metadata": {},
   "outputs": [
    {
     "data": {
      "text/plain": [
       "Num_env     int64\n",
       "Nom_env    object\n",
       "Num_rec     int64\n",
       "Nom_rec    object\n",
       "Enlace     object\n",
       "Periodo    object\n",
       "Cap        object\n",
       "Real       object\n",
       "Img        object\n",
       "dtype: object"
      ]
     },
     "execution_count": 117,
     "metadata": {},
     "output_type": "execute_result"
    }
   ],
   "source": [
    "red.dtypes"
   ]
  },
  {
   "cell_type": "markdown",
   "metadata": {},
   "source": [
    "Debido a que la variable de interés (\"Cap\") está en formato de objeto y se requiere en tipo entero o de punto flotante, se hace la limpieza de esta para quitar el formato que impide convertirla a numérica."
   ]
  },
  {
   "cell_type": "code",
   "execution_count": 3,
   "metadata": {},
   "outputs": [
    {
     "data": {
      "text/plain": [
       "0       1480.0\n",
       "1          0.0\n",
       "2          0.0\n",
       "3        224.0\n",
       "4          0.0\n",
       "         ...  \n",
       "2284       0.0\n",
       "2285       0.0\n",
       "2286       0.0\n",
       "2287       0.0\n",
       "2288       0.0\n",
       "Name: Cap, Length: 2289, dtype: float64"
      ]
     },
     "execution_count": 3,
     "metadata": {},
     "output_type": "execute_result"
    }
   ],
   "source": [
    "red['Cap'] = red['Cap'].str.replace(',','').astype(float)\n",
    "red['Cap']"
   ]
  },
  {
   "cell_type": "markdown",
   "metadata": {},
   "source": [
    "Esta base de datos se utiliza para hacer simulaciones en un programa de optimización más robusto, que evalua técnica y económicamente los Programas de Expansión de Generación y Transmisión (PEGyT), seleccionando de un abanico de alternativas (proyectos de infraestructura) las más eficientes en algún sentido: minimizar pérdidas de transmisión, reducción de emisiones de gases de efecto invernadero, maximización de ganancias en centrales eléctricas, entre otras. Así como respetando ciertas restricciones: cumplimiento de metas de generación renovable, política de confiabilidad (energía no suministrada y margen de reserva), operación dentro de los límites o capacidades de los enlaces, entre otras.\n",
    "\n",
    "El resultado de este modelo es un plan de expansión de la transmisión y la generación que cumple con los planteamientos mencionados. Por ello, para cada año se puede tener un incremento o decremento de capacidad en los enlaces, que obedecerían a lo que el programa determinó en ese plan de expansión del sistema. \n",
    "\n",
    "Para nuestro ejercicio partiremos de la capacidad final que fue determinada por el PEGyT en el año horizonte (2041). Para ello habría que sumar a la capacidad actual (primer periodo) todas las adiciones y decrementos que se hayan presentado durante el de tiempo considerado en la planeación."
   ]
  },
  {
   "cell_type": "code",
   "execution_count": 4,
   "metadata": {},
   "outputs": [
    {
     "data": {
      "text/html": [
       "<div>\n",
       "<style scoped>\n",
       "    .dataframe tbody tr th:only-of-type {\n",
       "        vertical-align: middle;\n",
       "    }\n",
       "\n",
       "    .dataframe tbody tr th {\n",
       "        vertical-align: top;\n",
       "    }\n",
       "\n",
       "    .dataframe thead th {\n",
       "        text-align: right;\n",
       "    }\n",
       "</style>\n",
       "<table border=\"1\" class=\"dataframe\">\n",
       "  <thead>\n",
       "    <tr style=\"text-align: right;\">\n",
       "      <th></th>\n",
       "      <th>Cap</th>\n",
       "    </tr>\n",
       "    <tr>\n",
       "      <th>cve_enlace</th>\n",
       "      <th></th>\n",
       "    </tr>\n",
       "  </thead>\n",
       "  <tbody>\n",
       "    <tr>\n",
       "      <th>11-3</th>\n",
       "      <td>647.0</td>\n",
       "    </tr>\n",
       "    <tr>\n",
       "      <th>12-10</th>\n",
       "      <td>950.0</td>\n",
       "    </tr>\n",
       "    <tr>\n",
       "      <th>12-11</th>\n",
       "      <td>600.0</td>\n",
       "    </tr>\n",
       "    <tr>\n",
       "      <th>12-14</th>\n",
       "      <td>940.0</td>\n",
       "    </tr>\n",
       "    <tr>\n",
       "      <th>14-13</th>\n",
       "      <td>500.0</td>\n",
       "    </tr>\n",
       "    <tr>\n",
       "      <th>...</th>\n",
       "      <td>...</td>\n",
       "    </tr>\n",
       "    <tr>\n",
       "      <th>69-70</th>\n",
       "      <td>55.0</td>\n",
       "    </tr>\n",
       "    <tr>\n",
       "      <th>7-8</th>\n",
       "      <td>2575.0</td>\n",
       "    </tr>\n",
       "    <tr>\n",
       "      <th>8-9</th>\n",
       "      <td>2070.0</td>\n",
       "    </tr>\n",
       "    <tr>\n",
       "      <th>9-16</th>\n",
       "      <td>623.0</td>\n",
       "    </tr>\n",
       "    <tr>\n",
       "      <th>9-29</th>\n",
       "      <td>2015.0</td>\n",
       "    </tr>\n",
       "  </tbody>\n",
       "</table>\n",
       "<p>109 rows × 1 columns</p>\n",
       "</div>"
      ],
      "text/plain": [
       "               Cap\n",
       "cve_enlace        \n",
       "11-3         647.0\n",
       "12-10        950.0\n",
       "12-11        600.0\n",
       "12-14        940.0\n",
       "14-13        500.0\n",
       "...            ...\n",
       "69-70         55.0\n",
       "7-8         2575.0\n",
       "8-9         2070.0\n",
       "9-16         623.0\n",
       "9-29        2015.0\n",
       "\n",
       "[109 rows x 1 columns]"
      ]
     },
     "execution_count": 4,
     "metadata": {},
     "output_type": "execute_result"
    }
   ],
   "source": [
    "red['cve_enlace'] = red['Num_env'].map(str) + \"-\" + red['Num_rec'].map(str)\n",
    "suma = red[['Cap','cve_enlace']].groupby(['cve_enlace']).aggregate(np.sum)\n",
    "suma"
   ]
  },
  {
   "cell_type": "markdown",
   "metadata": {},
   "source": [
    "Se obtienen los arreglos de interés: Nodo de envío (\"env\"), Nodo de recepción (\"rec\") y Capacidad del enlace (\"cap\")"
   ]
  },
  {
   "cell_type": "code",
   "execution_count": 5,
   "metadata": {},
   "outputs": [],
   "source": [
    "suma['Enlace'] = suma.index\n",
    "env_rec = suma['Enlace'].str.split('-', expand=True)\n",
    "env = env_rec[0].to_numpy()\n",
    "rec = env_rec[1].to_numpy()\n",
    "cap = suma['Cap'].to_numpy()"
   ]
  },
  {
   "cell_type": "markdown",
   "metadata": {},
   "source": [
    "La dirección que tiene este grafo es la proporcionada en la base de datos, sin embargo, de acuerdo a nuestro objetivo y para resolver el problema de flujo máximo se partirá de una red dirigida, con las convenciones de sentido de flujo que se mencionaron líneas arriba. Dicha convención se puede ver de manera gráfica en la siguiente figura:\n",
    "\n",
    "<p align = \"center\">\n",
    "    <img src=\"images/red_dirigida.png\" width=\"1329\" height=\"911\" />\n",
    "\n",
    "        fuente: Elaborado por CENACE\n"
   ]
  },
  {
   "cell_type": "markdown",
   "metadata": {},
   "source": [
    "Asignaremos las convenciones de las direcciones de las ramas que nos interesa para el ejercicio. En este caso, es en el sentido norte a sur, donde se observe una trayectoria de flujo desde el punto duente, en el noroeste del mapa (nodo 2), hasta el nodo sumidero, en el centro del país (nodo 40)."
   ]
  },
  {
   "cell_type": "code",
   "execution_count": 19,
   "metadata": {},
   "outputs": [],
   "source": [
    "# Orden requerido de nodos de envío y recepción\n",
    "\n",
    "env_conv = np.array([1,4,5,6,7,8,9,29,30,30,30,35,33,33,33,37,10,2,2,4,3,11,10,12,14,15,17,16,16,13,17,23,24,18,18,22,22,28,26,25,26,27,26,\n",
    "31,32,36,34,38,38,38])\n",
    "rec_conv = np.array([4,5,6,7,8,9,29,30,36,34,39,30,25,31,37,38,12,1,4,3,11,12,12,14,15,17,16,9,31,14,23,24,31,14,22,23,28,26,25,33,27,38,45,\n",
    "32,34,34,38,40,44,42])\n"
   ]
  },
  {
   "cell_type": "code",
   "execution_count": 30,
   "metadata": {},
   "outputs": [],
   "source": [
    "# Se generan las claves de los enlaces en la BD original \"nodo de envío - nodo de recepción\"\n",
    "clave = []\n",
    "for nodos in range(len(env)):\n",
    "    x = env[nodos] + '-' + rec[nodos]\n",
    "    clave.append(x)\n"
   ]
  },
  {
   "cell_type": "code",
   "execution_count": 44,
   "metadata": {},
   "outputs": [
    {
     "data": {
      "text/plain": [
       "50"
      ]
     },
     "execution_count": 44,
     "metadata": {},
     "output_type": "execute_result"
    }
   ],
   "source": [
    "# Se genera una clave de los nodos que no queremos que estén presentes en la lista de \"claves\" ya que implicarían el orden inverso \n",
    "# de envío y recepción \n",
    "errores = []\n",
    "for nodos in range(len(env_conv)):\n",
    "    x = str(rec_conv[nodos]) + '-' + str(env_conv[nodos])\n",
    "    errores.append(x)"
   ]
  },
  {
   "cell_type": "code",
   "execution_count": 64,
   "metadata": {},
   "outputs": [
    {
     "data": {
      "text/plain": [
       "[0, 1, 2, 4, 5, 6, 8, 16, 22, 23, 25, 33, 37, 47, 48, 54, 69, 86, 107]"
      ]
     },
     "execution_count": 64,
     "metadata": {},
     "output_type": "execute_result"
    }
   ],
   "source": [
    "# Encontramos las posiciones de los enlaces \"equivocados\" o con orden invertido entre envío y recepción\n",
    "c = [x for x in clave if x in errores]\n",
    "pos = []\n",
    "for elm in range(len(c)):\n",
    "    x = clave.index(c[elm])\n",
    "    pos.append(x)"
   ]
  },
  {
   "cell_type": "code",
   "execution_count": 65,
   "metadata": {},
   "outputs": [],
   "source": [
    "# Se invierte el nodo de envío y nodo de recepción de los arreglos \"env\" y \"rec\"\n",
    "for p in pos:\n",
    "    e, r = env[p],rec[p]\n",
    "    env[p] = r\n",
    "    rec[p] = e"
   ]
  },
  {
   "cell_type": "markdown",
   "metadata": {},
   "source": [
    "Generamos un DF que represente la matriz de incidencias"
   ]
  },
  {
   "cell_type": "code",
   "execution_count": 171,
   "metadata": {},
   "outputs": [],
   "source": [
    "# Número de nodos en la red\n",
    "env = env.astype(\"int\")\n",
    "rec = rec.astype(\"int\")\n",
    "nnodes = max(max(env), max(rec))\n",
    "d = pd.DataFrame(0, index=np.arange(1,nnodes+1,1), columns=list(range(1,nnodes+1)))"
   ]
  },
  {
   "cell_type": "code",
   "execution_count": 172,
   "metadata": {},
   "outputs": [],
   "source": [
    "aux = 0\n",
    "for n in env:\n",
    "    d.iloc[n-1,rec[aux]-1] = cap[aux]\n",
    "    aux += 1"
   ]
  },
  {
   "cell_type": "code",
   "execution_count": 174,
   "metadata": {},
   "outputs": [
    {
     "data": {
      "text/plain": [
       "array([[  0.,   0.,   0., ...,   0.,   0.,   0.],\n",
       "       [440.,   0.,   0., ...,   0.,   0.,   0.],\n",
       "       [  0., 535.,   0., ...,   0.,   0.,   0.],\n",
       "       ...,\n",
       "       [  0.,   0.,   0., ...,   0.,   0.,   0.],\n",
       "       [  0.,   0.,   0., ...,   0.,   0.,  55.],\n",
       "       [  0.,   0.,   0., ...,   0.,   0.,   0.]])"
      ]
     },
     "execution_count": 174,
     "metadata": {},
     "output_type": "execute_result"
    }
   ],
   "source": [
    "# Generamos el arreglo final de tipo \"numpy array\"\n",
    "arreglo = d.to_numpy()\n",
    "arreglo"
   ]
  }
 ],
 "metadata": {
  "interpreter": {
   "hash": "dc8e481995ee6218368e85549e7cc3c56b6e7949c74fc64efe9e1dca9c1e0e31"
  },
  "kernelspec": {
   "display_name": "Python 3.9.7 ('base')",
   "language": "python",
   "name": "python3"
  },
  "language_info": {
   "codemirror_mode": {
    "name": "ipython",
    "version": 3
   },
   "file_extension": ".py",
   "mimetype": "text/x-python",
   "name": "python",
   "nbconvert_exporter": "python",
   "pygments_lexer": "ipython3",
   "version": "3.9.7"
  },
  "orig_nbformat": 4
 },
 "nbformat": 4,
 "nbformat_minor": 2
}
