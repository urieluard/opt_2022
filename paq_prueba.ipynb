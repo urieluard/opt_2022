{
 "cells": [
  {
   "cell_type": "code",
   "execution_count": 34,
   "metadata": {},
   "outputs": [],
   "source": [
    "import pandas as pd\n",
    "import numpy as np"
   ]
  },
  {
   "cell_type": "markdown",
   "metadata": {},
   "source": [
    "## Descripción del problema a resolver\n",
    "\n",
    "**La base de datos** que se utilizará para probar el paquete implementado por el equipo corresponde a una representación simplificada de la Red Eléctrica Mexicana, que se utiliza para realizar la planeación del sistema nacional de generación, transmisión y distribución de energía eléctrica.\n",
    "\n",
    "La información a la que se tuvo acceso proviene del Centro Nacional de Control de Energía ([CENACE](https://www.gob.mx/cenace)) y su publicación se realiza de forma anual en los Programas de Ampliación y Modernización de la Red Nacional de Transmisión y Redes Generales de Distribución ([ver documento PAMRNT](https://www.cenace.gob.mx/Docs/10_PLANEACION/ProgramasAyM/Programa%20de%20Ampliaci%C3%B3n%20y%20Modernizaci%C3%B3n%20de%20la%20RNT%20y%20RGD%202021%20-%202035.pdf)).\n",
    "\n",
    "En la Figura 4.3.2 de ese documento, se muestra la topología que tiene la red que representa las regiones o zonas más representativas (en cuanto a demanda y generación de energía eléctrica o bien por cuestiones de ubicación geográfica), así como su conectividad. Adicionalmente, cada uno de los arcos (ramas) tiene una capacidad definida de transmisión de energía, comunmente llamada _límite de transmisión entre regiones_.\n",
    "\n",
    "<p align = \"center\">\n",
    "    <img src=\"images/red_nacional.png\" width=\"1329\" height=\"911\" />\n",
    "\n",
    "        fuente: Elaborado por CENACE\n",
    "\n",
    "El grafo que observamos es de tipo \"no-dirigido\", porque en una red eléctrica el sentido del flujo de potencia (energía) puede darse en cualquier sentido y está determinado por la solución que se obtenga del problema de [Flujos de Potencia](https://www.intechopen.com/chapters/65445). Sin embargo, para el ejercicio que realizaremos en esta práctica, partiremos de una suposición de sentido en los flujos de potencia basada en las condiciones que predominan en la red eléctrica y que se reportan en el PAMRNT (en la sección: _Condiciones operativas en las transferencias de potencia en los principales enlaces del Sistema Eléctrico Nacional en la demanda máxima de verano de 2020_).\n",
    "\n",
    "**El Planteamiento** del problema que se pretende resolver es el siguiente: \"Dada la red eléctrica de la Figura 4.3.2 encontrar flujo máximo que se puede transmitir en la red\".\n",
    "\n",
    "**¿Para qué puede servir encontrar el flujo máximo en la red eléctrica?**\n",
    "\n",
    "- Para determinar los posibles cuellos de botella (restricciones) que se pueden presentar al tratar de enviar energía desde un punto de la red a otro.\n",
    "- Encontrar posibles puntos de inyección donde resulte más conveniente instalar generación (que se obtengan mayores flujos máximos por la red)\n",
    "- Descubrir cuales corredores de trasnmisión (rutas) se ven más utilizadas cuando la inyección de energía se presenta en algún punto de la red.\n"
   ]
  },
  {
   "cell_type": "markdown",
   "metadata": {},
   "source": [
    "## Lectura y limpieza de la Base de Datos"
   ]
  },
  {
   "cell_type": "code",
   "execution_count": 51,
   "metadata": {},
   "outputs": [
    {
     "data": {
      "text/plain": [
       "(2289, 5)"
      ]
     },
     "execution_count": 51,
     "metadata": {},
     "output_type": "execute_result"
    }
   ],
   "source": [
    "red = pd.read_csv('BD/red.csv')\n",
    "pd.options.display.max_rows = 10\n",
    "red.shape"
   ]
  },
  {
   "cell_type": "code",
   "execution_count": 52,
   "metadata": {},
   "outputs": [
    {
     "data": {
      "text/plain": [
       "Enlace     object\n",
       "Periodo    object\n",
       "Cap        object\n",
       "Real       object\n",
       "Img        object\n",
       "dtype: object"
      ]
     },
     "execution_count": 52,
     "metadata": {},
     "output_type": "execute_result"
    }
   ],
   "source": [
    "red.dtypes"
   ]
  },
  {
   "cell_type": "code",
   "execution_count": 54,
   "metadata": {},
   "outputs": [],
   "source": [
    "red = red.applymap(lambda x: x.replace(',', ''))\n",
    "red['Cap'] = red['Cap'].astype('float')"
   ]
  },
  {
   "cell_type": "code",
   "execution_count": 81,
   "metadata": {},
   "outputs": [],
   "source": [
    "enlaces = red[['Enlace','Cap']]\n",
    "suma = enlaces.groupby(['Enlace']).aggregate(np.sum)\n",
    "suma['Enlace'] = suma.index\n",
    "env_rec = suma['Enlace'].str.split('-', expand=True)\n",
    "envio = env_rec[0].to_numpy()\n",
    "recep = env_rec[1].to_numpy()"
   ]
  },
  {
   "cell_type": "code",
   "execution_count": 82,
   "metadata": {},
   "outputs": [
    {
     "data": {
      "text/plain": [
       "array(['AGUA', 'LEON', 'SLP', 'CHIH', '6ABR', 'LCAR', 'SALM', 'POZA',\n",
       "       'PUEB', 'BELI', 'CUAU', 'RIOE', 'MAZ', 'CENT', 'LCAR', 'AGUA',\n",
       "       'CANC', 'PILV', 'PLYC', 'CHET', 'LERM', 'MERI', 'COAT', 'GUAT',\n",
       "       'TABA', 'AGUA', 'CARA', 'MANZ', 'SALM', 'LCAR', 'HERM', 'HUA',\n",
       "       '6ABR', 'CANA', 'NACO', 'POZ', 'JUIL', 'CENT', 'DOGU', 'JUIL',\n",
       "       'MROP', 'OAXA', 'GRIJ', 'TEMA', 'DUR', 'SALT', '1ROM', 'CAMA',\n",
       "       'ACAP', 'SALA', 'MERI', 'DUR', 'TEP', 'CHET', 'DZT', 'VALLA',\n",
       "       'CUL', 'CHIH', 'JUA', 'NVOC', 'GUEZ', 'REY', 'RIO', 'SALT', 'ACAP',\n",
       "       'PUEB', 'TOLU', 'COAT', 'JUIL', 'CANA', 'REY', 'NACO', 'ACAP',\n",
       "       'MOCH', 'GUAY', 'CANC', 'PLYC', 'CANC', 'COZU', 'PUEB', 'TULA',\n",
       "       'VERA', 'CENT', 'JILO', 'MAT', 'NLAD', 'QUER', '1ROM', 'SLPZ',\n",
       "       'QUER', 'ESCA', 'HUA', 'JILO', 'QUER', 'COAT', 'OAXA', 'PUEB',\n",
       "       'GUA', 'CENT', 'DOGU', 'CENT', 'JILO', 'QUER', 'HUA', 'SLP',\n",
       "       'CANC', 'PLYC', 'POZ', 'TEMA'], dtype=object)"
      ]
     },
     "execution_count": 82,
     "metadata": {},
     "output_type": "execute_result"
    }
   ],
   "source": [
    "recep"
   ]
  }
 ],
 "metadata": {
  "interpreter": {
   "hash": "dc8e481995ee6218368e85549e7cc3c56b6e7949c74fc64efe9e1dca9c1e0e31"
  },
  "kernelspec": {
   "display_name": "Python 3.9.7 ('base')",
   "language": "python",
   "name": "python3"
  },
  "language_info": {
   "codemirror_mode": {
    "name": "ipython",
    "version": 3
   },
   "file_extension": ".py",
   "mimetype": "text/x-python",
   "name": "python",
   "nbconvert_exporter": "python",
   "pygments_lexer": "ipython3",
   "version": "3.7.3"
  },
  "orig_nbformat": 4
 },
 "nbformat": 4,
 "nbformat_minor": 2
}
